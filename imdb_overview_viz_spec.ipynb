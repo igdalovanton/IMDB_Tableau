{
 "cells": [
  {
   "cell_type": "code",
   "execution_count": 2,
   "id": "34e781b3",
   "metadata": {},
   "outputs": [],
   "source": [
    "import pandas as pd"
   ]
  },
  {
   "cell_type": "markdown",
   "id": "ede4628e",
   "metadata": {},
   "source": [
    "# name_basics.tsv"
   ]
  },
  {
   "cell_type": "code",
   "execution_count": 4,
   "id": "f294474e",
   "metadata": {},
   "outputs": [],
   "source": [
    "dfnames = pd.read_csv('imdb_database_202401/name_basics.tsv',delimiter = '\\t')"
   ]
  },
  {
   "cell_type": "code",
   "execution_count": 5,
   "id": "fff591e0",
   "metadata": {},
   "outputs": [
    {
     "data": {
      "text/html": [
       "<div>\n",
       "<style scoped>\n",
       "    .dataframe tbody tr th:only-of-type {\n",
       "        vertical-align: middle;\n",
       "    }\n",
       "\n",
       "    .dataframe tbody tr th {\n",
       "        vertical-align: top;\n",
       "    }\n",
       "\n",
       "    .dataframe thead th {\n",
       "        text-align: right;\n",
       "    }\n",
       "</style>\n",
       "<table border=\"1\" class=\"dataframe\">\n",
       "  <thead>\n",
       "    <tr style=\"text-align: right;\">\n",
       "      <th></th>\n",
       "      <th>nconst</th>\n",
       "      <th>primaryName</th>\n",
       "      <th>birthYear</th>\n",
       "      <th>deathYear</th>\n",
       "      <th>primaryProfession</th>\n",
       "      <th>knownForTitles</th>\n",
       "    </tr>\n",
       "  </thead>\n",
       "  <tbody>\n",
       "    <tr>\n",
       "      <th>0</th>\n",
       "      <td>nm0000001</td>\n",
       "      <td>Fred Astaire</td>\n",
       "      <td>1899</td>\n",
       "      <td>1987</td>\n",
       "      <td>soundtrack,actor,miscellaneous</td>\n",
       "      <td>tt0072308,tt0050419,tt0053137,tt0031983</td>\n",
       "    </tr>\n",
       "    <tr>\n",
       "      <th>1</th>\n",
       "      <td>nm0000002</td>\n",
       "      <td>Lauren Bacall</td>\n",
       "      <td>1924</td>\n",
       "      <td>2014</td>\n",
       "      <td>actress,soundtrack</td>\n",
       "      <td>tt0117057,tt0037382,tt0038355,tt0075213</td>\n",
       "    </tr>\n",
       "    <tr>\n",
       "      <th>2</th>\n",
       "      <td>nm0000003</td>\n",
       "      <td>Brigitte Bardot</td>\n",
       "      <td>1934</td>\n",
       "      <td>\\N</td>\n",
       "      <td>actress,soundtrack,music_department</td>\n",
       "      <td>tt0049189,tt0054452,tt0056404,tt0057345</td>\n",
       "    </tr>\n",
       "    <tr>\n",
       "      <th>3</th>\n",
       "      <td>nm0000004</td>\n",
       "      <td>John Belushi</td>\n",
       "      <td>1949</td>\n",
       "      <td>1982</td>\n",
       "      <td>actor,soundtrack,writer</td>\n",
       "      <td>tt0078723,tt0072562,tt0077975,tt0080455</td>\n",
       "    </tr>\n",
       "    <tr>\n",
       "      <th>4</th>\n",
       "      <td>nm0000005</td>\n",
       "      <td>Ingmar Bergman</td>\n",
       "      <td>1918</td>\n",
       "      <td>2007</td>\n",
       "      <td>writer,director,actor</td>\n",
       "      <td>tt0050976,tt0069467,tt0083922,tt0050986</td>\n",
       "    </tr>\n",
       "  </tbody>\n",
       "</table>\n",
       "</div>"
      ],
      "text/plain": [
       "      nconst      primaryName birthYear deathYear  \\\n",
       "0  nm0000001     Fred Astaire      1899      1987   \n",
       "1  nm0000002    Lauren Bacall      1924      2014   \n",
       "2  nm0000003  Brigitte Bardot      1934        \\N   \n",
       "3  nm0000004     John Belushi      1949      1982   \n",
       "4  nm0000005   Ingmar Bergman      1918      2007   \n",
       "\n",
       "                     primaryProfession  \\\n",
       "0       soundtrack,actor,miscellaneous   \n",
       "1                   actress,soundtrack   \n",
       "2  actress,soundtrack,music_department   \n",
       "3              actor,soundtrack,writer   \n",
       "4                writer,director,actor   \n",
       "\n",
       "                            knownForTitles  \n",
       "0  tt0072308,tt0050419,tt0053137,tt0031983  \n",
       "1  tt0117057,tt0037382,tt0038355,tt0075213  \n",
       "2  tt0049189,tt0054452,tt0056404,tt0057345  \n",
       "3  tt0078723,tt0072562,tt0077975,tt0080455  \n",
       "4  tt0050976,tt0069467,tt0083922,tt0050986  "
      ]
     },
     "execution_count": 5,
     "metadata": {},
     "output_type": "execute_result"
    }
   ],
   "source": [
    "dfnames.head()"
   ]
  },
  {
   "cell_type": "code",
   "execution_count": 9,
   "id": "6f4d54df",
   "metadata": {},
   "outputs": [
    {
     "name": "stdout",
     "output_type": "stream",
     "text": [
      "key is unique\n"
     ]
    }
   ],
   "source": [
    "#check if the key is unique\n",
    "if len(dfnames['nconst'].unique()) == dfnames.shape[0]:\n",
    "    print('key is unique')\n",
    "else:\n",
    "    print('key is not unique')"
   ]
  },
  {
   "cell_type": "markdown",
   "id": "0a3b2b07",
   "metadata": {},
   "source": [
    "# title.basics.tsv"
   ]
  },
  {
   "cell_type": "code",
   "execution_count": 99,
   "id": "ec3abf70",
   "metadata": {},
   "outputs": [],
   "source": [
    "dftitles = pd.read_csv('imdb_database_202401/title_basics.tsv',delimiter = '\\t',low_memory=False)"
   ]
  },
  {
   "cell_type": "code",
   "execution_count": 13,
   "id": "abe355a4",
   "metadata": {},
   "outputs": [
    {
     "data": {
      "text/html": [
       "<div>\n",
       "<style scoped>\n",
       "    .dataframe tbody tr th:only-of-type {\n",
       "        vertical-align: middle;\n",
       "    }\n",
       "\n",
       "    .dataframe tbody tr th {\n",
       "        vertical-align: top;\n",
       "    }\n",
       "\n",
       "    .dataframe thead th {\n",
       "        text-align: right;\n",
       "    }\n",
       "</style>\n",
       "<table border=\"1\" class=\"dataframe\">\n",
       "  <thead>\n",
       "    <tr style=\"text-align: right;\">\n",
       "      <th></th>\n",
       "      <th>tconst</th>\n",
       "      <th>titleType</th>\n",
       "      <th>primaryTitle</th>\n",
       "      <th>originalTitle</th>\n",
       "      <th>isAdult</th>\n",
       "      <th>startYear</th>\n",
       "      <th>endYear</th>\n",
       "      <th>runtimeMinutes</th>\n",
       "      <th>genres</th>\n",
       "    </tr>\n",
       "  </thead>\n",
       "  <tbody>\n",
       "    <tr>\n",
       "      <th>0</th>\n",
       "      <td>tt0000001</td>\n",
       "      <td>short</td>\n",
       "      <td>Carmencita</td>\n",
       "      <td>Carmencita</td>\n",
       "      <td>0</td>\n",
       "      <td>1894</td>\n",
       "      <td>\\N</td>\n",
       "      <td>1</td>\n",
       "      <td>Documentary,Short</td>\n",
       "    </tr>\n",
       "    <tr>\n",
       "      <th>1</th>\n",
       "      <td>tt0000002</td>\n",
       "      <td>short</td>\n",
       "      <td>Le clown et ses chiens</td>\n",
       "      <td>Le clown et ses chiens</td>\n",
       "      <td>0</td>\n",
       "      <td>1892</td>\n",
       "      <td>\\N</td>\n",
       "      <td>5</td>\n",
       "      <td>Animation,Short</td>\n",
       "    </tr>\n",
       "    <tr>\n",
       "      <th>2</th>\n",
       "      <td>tt0000003</td>\n",
       "      <td>short</td>\n",
       "      <td>Pauvre Pierrot</td>\n",
       "      <td>Pauvre Pierrot</td>\n",
       "      <td>0</td>\n",
       "      <td>1892</td>\n",
       "      <td>\\N</td>\n",
       "      <td>4</td>\n",
       "      <td>Animation,Comedy,Romance</td>\n",
       "    </tr>\n",
       "    <tr>\n",
       "      <th>3</th>\n",
       "      <td>tt0000004</td>\n",
       "      <td>short</td>\n",
       "      <td>Un bon bock</td>\n",
       "      <td>Un bon bock</td>\n",
       "      <td>0</td>\n",
       "      <td>1892</td>\n",
       "      <td>\\N</td>\n",
       "      <td>12</td>\n",
       "      <td>Animation,Short</td>\n",
       "    </tr>\n",
       "    <tr>\n",
       "      <th>4</th>\n",
       "      <td>tt0000005</td>\n",
       "      <td>short</td>\n",
       "      <td>Blacksmith Scene</td>\n",
       "      <td>Blacksmith Scene</td>\n",
       "      <td>0</td>\n",
       "      <td>1893</td>\n",
       "      <td>\\N</td>\n",
       "      <td>1</td>\n",
       "      <td>Comedy,Short</td>\n",
       "    </tr>\n",
       "  </tbody>\n",
       "</table>\n",
       "</div>"
      ],
      "text/plain": [
       "      tconst titleType            primaryTitle           originalTitle  \\\n",
       "0  tt0000001     short              Carmencita              Carmencita   \n",
       "1  tt0000002     short  Le clown et ses chiens  Le clown et ses chiens   \n",
       "2  tt0000003     short          Pauvre Pierrot          Pauvre Pierrot   \n",
       "3  tt0000004     short             Un bon bock             Un bon bock   \n",
       "4  tt0000005     short        Blacksmith Scene        Blacksmith Scene   \n",
       "\n",
       "  isAdult startYear endYear runtimeMinutes                    genres  \n",
       "0       0      1894      \\N              1         Documentary,Short  \n",
       "1       0      1892      \\N              5           Animation,Short  \n",
       "2       0      1892      \\N              4  Animation,Comedy,Romance  \n",
       "3       0      1892      \\N             12           Animation,Short  \n",
       "4       0      1893      \\N              1              Comedy,Short  "
      ]
     },
     "execution_count": 13,
     "metadata": {},
     "output_type": "execute_result"
    }
   ],
   "source": [
    "dftitles.head()"
   ]
  },
  {
   "cell_type": "code",
   "execution_count": 14,
   "id": "5764c71b",
   "metadata": {},
   "outputs": [],
   "source": [
    "#select tconst and genres\n",
    "dftitles_genres = dftitles[['tconst', 'genres']]"
   ]
  },
  {
   "cell_type": "code",
   "execution_count": 15,
   "id": "3f910c0e",
   "metadata": {},
   "outputs": [
    {
     "data": {
      "text/html": [
       "<div>\n",
       "<style scoped>\n",
       "    .dataframe tbody tr th:only-of-type {\n",
       "        vertical-align: middle;\n",
       "    }\n",
       "\n",
       "    .dataframe tbody tr th {\n",
       "        vertical-align: top;\n",
       "    }\n",
       "\n",
       "    .dataframe thead th {\n",
       "        text-align: right;\n",
       "    }\n",
       "</style>\n",
       "<table border=\"1\" class=\"dataframe\">\n",
       "  <thead>\n",
       "    <tr style=\"text-align: right;\">\n",
       "      <th></th>\n",
       "      <th>tconst</th>\n",
       "      <th>genres</th>\n",
       "    </tr>\n",
       "  </thead>\n",
       "  <tbody>\n",
       "    <tr>\n",
       "      <th>0</th>\n",
       "      <td>tt0000001</td>\n",
       "      <td>Documentary,Short</td>\n",
       "    </tr>\n",
       "    <tr>\n",
       "      <th>1</th>\n",
       "      <td>tt0000002</td>\n",
       "      <td>Animation,Short</td>\n",
       "    </tr>\n",
       "    <tr>\n",
       "      <th>2</th>\n",
       "      <td>tt0000003</td>\n",
       "      <td>Animation,Comedy,Romance</td>\n",
       "    </tr>\n",
       "    <tr>\n",
       "      <th>3</th>\n",
       "      <td>tt0000004</td>\n",
       "      <td>Animation,Short</td>\n",
       "    </tr>\n",
       "    <tr>\n",
       "      <th>4</th>\n",
       "      <td>tt0000005</td>\n",
       "      <td>Comedy,Short</td>\n",
       "    </tr>\n",
       "  </tbody>\n",
       "</table>\n",
       "</div>"
      ],
      "text/plain": [
       "      tconst                    genres\n",
       "0  tt0000001         Documentary,Short\n",
       "1  tt0000002           Animation,Short\n",
       "2  tt0000003  Animation,Comedy,Romance\n",
       "3  tt0000004           Animation,Short\n",
       "4  tt0000005              Comedy,Short"
      ]
     },
     "execution_count": 15,
     "metadata": {},
     "output_type": "execute_result"
    }
   ],
   "source": [
    "dftitles_genres.head()"
   ]
  },
  {
   "cell_type": "code",
   "execution_count": 18,
   "id": "a153ecc1",
   "metadata": {},
   "outputs": [],
   "source": [
    "#explode genres into rows\n",
    "dftitles_genres = dftitles_genres.assign(genres = dftitles_genres['genres'].str.split(',')).explode('genres')"
   ]
  },
  {
   "cell_type": "code",
   "execution_count": 22,
   "id": "ab788f56",
   "metadata": {},
   "outputs": [
    {
     "data": {
      "text/html": [
       "<div>\n",
       "<style scoped>\n",
       "    .dataframe tbody tr th:only-of-type {\n",
       "        vertical-align: middle;\n",
       "    }\n",
       "\n",
       "    .dataframe tbody tr th {\n",
       "        vertical-align: top;\n",
       "    }\n",
       "\n",
       "    .dataframe thead th {\n",
       "        text-align: right;\n",
       "    }\n",
       "</style>\n",
       "<table border=\"1\" class=\"dataframe\">\n",
       "  <thead>\n",
       "    <tr style=\"text-align: right;\">\n",
       "      <th></th>\n",
       "      <th>tconst</th>\n",
       "      <th>genres</th>\n",
       "    </tr>\n",
       "  </thead>\n",
       "  <tbody>\n",
       "    <tr>\n",
       "      <th>0</th>\n",
       "      <td>tt0000001</td>\n",
       "      <td>Documentary</td>\n",
       "    </tr>\n",
       "    <tr>\n",
       "      <th>0</th>\n",
       "      <td>tt0000001</td>\n",
       "      <td>Short</td>\n",
       "    </tr>\n",
       "    <tr>\n",
       "      <th>1</th>\n",
       "      <td>tt0000002</td>\n",
       "      <td>Animation</td>\n",
       "    </tr>\n",
       "    <tr>\n",
       "      <th>1</th>\n",
       "      <td>tt0000002</td>\n",
       "      <td>Short</td>\n",
       "    </tr>\n",
       "    <tr>\n",
       "      <th>2</th>\n",
       "      <td>tt0000003</td>\n",
       "      <td>Animation</td>\n",
       "    </tr>\n",
       "  </tbody>\n",
       "</table>\n",
       "</div>"
      ],
      "text/plain": [
       "      tconst       genres\n",
       "0  tt0000001  Documentary\n",
       "0  tt0000001        Short\n",
       "1  tt0000002    Animation\n",
       "1  tt0000002        Short\n",
       "2  tt0000003    Animation"
      ]
     },
     "execution_count": 22,
     "metadata": {},
     "output_type": "execute_result"
    }
   ],
   "source": [
    "dftitles_genres.head()"
   ]
  },
  {
   "cell_type": "code",
   "execution_count": 21,
   "id": "d0c04a57",
   "metadata": {},
   "outputs": [],
   "source": [
    "#export data to csv\n",
    "dftitles_genres.to_csv('imdb_database_202401/title_basics_by_genre.csv', index=False)"
   ]
  },
  {
   "cell_type": "markdown",
   "id": "a0d614b7",
   "metadata": {},
   "source": [
    "# title_crew.tsv"
   ]
  },
  {
   "cell_type": "code",
   "execution_count": 38,
   "id": "4f9b3e22",
   "metadata": {},
   "outputs": [],
   "source": [
    "dfcrew = pd.read_csv('imdb_database_202401/title_crew.tsv',delimiter = '\\t')"
   ]
  },
  {
   "cell_type": "code",
   "execution_count": 39,
   "id": "fd23925b",
   "metadata": {},
   "outputs": [
    {
     "data": {
      "text/html": [
       "<div>\n",
       "<style scoped>\n",
       "    .dataframe tbody tr th:only-of-type {\n",
       "        vertical-align: middle;\n",
       "    }\n",
       "\n",
       "    .dataframe tbody tr th {\n",
       "        vertical-align: top;\n",
       "    }\n",
       "\n",
       "    .dataframe thead th {\n",
       "        text-align: right;\n",
       "    }\n",
       "</style>\n",
       "<table border=\"1\" class=\"dataframe\">\n",
       "  <thead>\n",
       "    <tr style=\"text-align: right;\">\n",
       "      <th></th>\n",
       "      <th>tconst</th>\n",
       "      <th>directors</th>\n",
       "      <th>writers</th>\n",
       "    </tr>\n",
       "  </thead>\n",
       "  <tbody>\n",
       "    <tr>\n",
       "      <th>0</th>\n",
       "      <td>tt0000001</td>\n",
       "      <td>nm0005690</td>\n",
       "      <td>\\N</td>\n",
       "    </tr>\n",
       "    <tr>\n",
       "      <th>1</th>\n",
       "      <td>tt0000002</td>\n",
       "      <td>nm0721526</td>\n",
       "      <td>\\N</td>\n",
       "    </tr>\n",
       "    <tr>\n",
       "      <th>2</th>\n",
       "      <td>tt0000003</td>\n",
       "      <td>nm0721526</td>\n",
       "      <td>\\N</td>\n",
       "    </tr>\n",
       "    <tr>\n",
       "      <th>3</th>\n",
       "      <td>tt0000004</td>\n",
       "      <td>nm0721526</td>\n",
       "      <td>\\N</td>\n",
       "    </tr>\n",
       "    <tr>\n",
       "      <th>4</th>\n",
       "      <td>tt0000005</td>\n",
       "      <td>nm0005690</td>\n",
       "      <td>\\N</td>\n",
       "    </tr>\n",
       "  </tbody>\n",
       "</table>\n",
       "</div>"
      ],
      "text/plain": [
       "      tconst  directors writers\n",
       "0  tt0000001  nm0005690      \\N\n",
       "1  tt0000002  nm0721526      \\N\n",
       "2  tt0000003  nm0721526      \\N\n",
       "3  tt0000004  nm0721526      \\N\n",
       "4  tt0000005  nm0005690      \\N"
      ]
     },
     "execution_count": 39,
     "metadata": {},
     "output_type": "execute_result"
    }
   ],
   "source": [
    "dfcrew.head()"
   ]
  },
  {
   "cell_type": "code",
   "execution_count": 77,
   "id": "210fd6f9",
   "metadata": {},
   "outputs": [
    {
     "name": "stdout",
     "output_type": "stream",
     "text": [
      "min: 2\n",
      "min: 10\n"
     ]
    }
   ],
   "source": [
    "#calculate min & max length of key to check constancy\n",
    "dfcrew['len'] = dfcrew['directors'].apply(lambda x: len(x))\n",
    "dir_len_min = dfcrew['len'].min()\n",
    "dir_len_max = dfcrew['len'].max()\n",
    "print('min: ' + str(dir_len_min))\n",
    "print('min: ' + str(dir_len_max))"
   ]
  },
  {
   "cell_type": "code",
   "execution_count": 69,
   "id": "8e40d377",
   "metadata": {},
   "outputs": [
    {
     "data": {
      "text/plain": [
       "tconst       tt0000039\n",
       "directors           \\N\n",
       "writers             \\N\n",
       "len                  2\n",
       "Name: 37, dtype: object"
      ]
     },
     "execution_count": 69,
     "metadata": {},
     "output_type": "execute_result"
    }
   ],
   "source": [
    "#show the min lenght row\n",
    "dfcrew[dfcrew['len'] == dir_len_min].iloc[0]"
   ]
  },
  {
   "cell_type": "code",
   "execution_count": 70,
   "id": "e37d92be",
   "metadata": {},
   "outputs": [
    {
     "data": {
      "text/plain": [
       "tconst                                               tt0441074\n",
       "directors    nm0417370,nm0361540,nm3874442,nm0344761,nm1337...\n",
       "writers      nm10111863,nm0927252,nm1291828,nm10668385,nm10...\n",
       "len                                                       5175\n",
       "Name: 423277, dtype: object"
      ]
     },
     "execution_count": 70,
     "metadata": {},
     "output_type": "execute_result"
    }
   ],
   "source": [
    "#show the max lenght row\n",
    "dfcrew[dfcrew['len'] == dir_len_max].iloc[0]"
   ]
  },
  {
   "cell_type": "code",
   "execution_count": 78,
   "id": "a1d67311",
   "metadata": {},
   "outputs": [],
   "source": [
    "#delete len column\n",
    "del dfcrew['len']"
   ]
  },
  {
   "cell_type": "code",
   "execution_count": 71,
   "id": "9c438364",
   "metadata": {},
   "outputs": [],
   "source": [
    "#explode directors into rows\n",
    "dfcrew = dfcrew.assign(directors = dfcrew['directors'].str.split(',')).explode('directors')"
   ]
  },
  {
   "cell_type": "code",
   "execution_count": 75,
   "id": "ef419568",
   "metadata": {},
   "outputs": [
    {
     "data": {
      "text/html": [
       "<div>\n",
       "<style scoped>\n",
       "    .dataframe tbody tr th:only-of-type {\n",
       "        vertical-align: middle;\n",
       "    }\n",
       "\n",
       "    .dataframe tbody tr th {\n",
       "        vertical-align: top;\n",
       "    }\n",
       "\n",
       "    .dataframe thead th {\n",
       "        text-align: right;\n",
       "    }\n",
       "</style>\n",
       "<table border=\"1\" class=\"dataframe\">\n",
       "  <thead>\n",
       "    <tr style=\"text-align: right;\">\n",
       "      <th></th>\n",
       "      <th>tconst</th>\n",
       "      <th>directors</th>\n",
       "      <th>writers</th>\n",
       "    </tr>\n",
       "  </thead>\n",
       "  <tbody>\n",
       "    <tr>\n",
       "      <th>0</th>\n",
       "      <td>tt0000001</td>\n",
       "      <td>nm0005690</td>\n",
       "      <td>\\N</td>\n",
       "    </tr>\n",
       "    <tr>\n",
       "      <th>1</th>\n",
       "      <td>tt0000002</td>\n",
       "      <td>nm0721526</td>\n",
       "      <td>\\N</td>\n",
       "    </tr>\n",
       "    <tr>\n",
       "      <th>2</th>\n",
       "      <td>tt0000003</td>\n",
       "      <td>nm0721526</td>\n",
       "      <td>\\N</td>\n",
       "    </tr>\n",
       "    <tr>\n",
       "      <th>3</th>\n",
       "      <td>tt0000004</td>\n",
       "      <td>nm0721526</td>\n",
       "      <td>\\N</td>\n",
       "    </tr>\n",
       "    <tr>\n",
       "      <th>4</th>\n",
       "      <td>tt0000005</td>\n",
       "      <td>nm0005690</td>\n",
       "      <td>\\N</td>\n",
       "    </tr>\n",
       "  </tbody>\n",
       "</table>\n",
       "</div>"
      ],
      "text/plain": [
       "      tconst  directors writers\n",
       "0  tt0000001  nm0005690      \\N\n",
       "1  tt0000002  nm0721526      \\N\n",
       "2  tt0000003  nm0721526      \\N\n",
       "3  tt0000004  nm0721526      \\N\n",
       "4  tt0000005  nm0005690      \\N"
      ]
     },
     "execution_count": 75,
     "metadata": {},
     "output_type": "execute_result"
    }
   ],
   "source": [
    "dfcrew.head()"
   ]
  },
  {
   "cell_type": "code",
   "execution_count": 79,
   "id": "d5b3b021",
   "metadata": {},
   "outputs": [],
   "source": [
    "#export data to csv\n",
    "dfcrew.to_csv('imdb_database_202401/title_crew_by_director.csv', index=False)"
   ]
  },
  {
   "cell_type": "markdown",
   "id": "be568c7c",
   "metadata": {},
   "source": [
    "# title_rating.tsv"
   ]
  },
  {
   "cell_type": "code",
   "execution_count": 3,
   "id": "102f044b",
   "metadata": {},
   "outputs": [],
   "source": [
    "dfrating = pd.read_csv('imdb_database_202401/title_rating.tsv',delimiter = '\\t')"
   ]
  },
  {
   "cell_type": "code",
   "execution_count": 25,
   "id": "d27e299f",
   "metadata": {
    "scrolled": true
   },
   "outputs": [
    {
     "data": {
      "text/html": [
       "<div>\n",
       "<style scoped>\n",
       "    .dataframe tbody tr th:only-of-type {\n",
       "        vertical-align: middle;\n",
       "    }\n",
       "\n",
       "    .dataframe tbody tr th {\n",
       "        vertical-align: top;\n",
       "    }\n",
       "\n",
       "    .dataframe thead th {\n",
       "        text-align: right;\n",
       "    }\n",
       "</style>\n",
       "<table border=\"1\" class=\"dataframe\">\n",
       "  <thead>\n",
       "    <tr style=\"text-align: right;\">\n",
       "      <th></th>\n",
       "      <th>tconst</th>\n",
       "      <th>averageRating</th>\n",
       "      <th>numVotes</th>\n",
       "    </tr>\n",
       "  </thead>\n",
       "  <tbody>\n",
       "    <tr>\n",
       "      <th>0</th>\n",
       "      <td>tt0000001</td>\n",
       "      <td>5.7</td>\n",
       "      <td>2017</td>\n",
       "    </tr>\n",
       "    <tr>\n",
       "      <th>1</th>\n",
       "      <td>tt0000002</td>\n",
       "      <td>5.7</td>\n",
       "      <td>270</td>\n",
       "    </tr>\n",
       "    <tr>\n",
       "      <th>2</th>\n",
       "      <td>tt0000003</td>\n",
       "      <td>6.5</td>\n",
       "      <td>1943</td>\n",
       "    </tr>\n",
       "    <tr>\n",
       "      <th>3</th>\n",
       "      <td>tt0000004</td>\n",
       "      <td>5.4</td>\n",
       "      <td>178</td>\n",
       "    </tr>\n",
       "    <tr>\n",
       "      <th>4</th>\n",
       "      <td>tt0000005</td>\n",
       "      <td>6.2</td>\n",
       "      <td>2721</td>\n",
       "    </tr>\n",
       "  </tbody>\n",
       "</table>\n",
       "</div>"
      ],
      "text/plain": [
       "      tconst  averageRating  numVotes\n",
       "0  tt0000001            5.7      2017\n",
       "1  tt0000002            5.7       270\n",
       "2  tt0000003            6.5      1943\n",
       "3  tt0000004            5.4       178\n",
       "4  tt0000005            6.2      2721"
      ]
     },
     "execution_count": 25,
     "metadata": {},
     "output_type": "execute_result"
    }
   ],
   "source": [
    "dfrating.head()"
   ]
  },
  {
   "cell_type": "code",
   "execution_count": 26,
   "id": "c46cbe8a",
   "metadata": {},
   "outputs": [],
   "source": [
    "dfvotes = dfrating['numVotes']"
   ]
  },
  {
   "cell_type": "code",
   "execution_count": 76,
   "id": "718184b1",
   "metadata": {},
   "outputs": [
    {
     "data": {
      "text/plain": [
       "count    1396382.00\n",
       "mean        1037.11\n",
       "std        17638.94\n",
       "min            5.00\n",
       "25%           11.00\n",
       "50%           26.00\n",
       "75%          101.00\n",
       "max      2849811.00\n",
       "Name: numVotes, dtype: float64"
      ]
     },
     "execution_count": 76,
     "metadata": {},
     "output_type": "execute_result"
    }
   ],
   "source": [
    "dfvotes.describe().round(2)"
   ]
  },
  {
   "cell_type": "code",
   "execution_count": 153,
   "id": "20315f40",
   "metadata": {},
   "outputs": [
    {
     "data": {
      "text/plain": [
       "<Axes: >"
      ]
     },
     "execution_count": 153,
     "metadata": {},
     "output_type": "execute_result"
    },
    {
     "data": {
      "image/png": "[encoded data removed]",
      "text/plain": [
       "<Figure size 640x480 with 1 Axes>"
      ]
     },
     "metadata": {},
     "output_type": "display_data"
    }
   ],
   "source": [
    "#Create a hits of votes distribution (log = True, becouse data strongly shifted to the left)\n",
    "dfvotes.value_counts().hist(log=True)"
   ]
  },
  {
   "cell_type": "code",
   "execution_count": 198,
   "id": "8d47190e",
   "metadata": {},
   "outputs": [
    {
     "data": {
      "text/plain": [
       "0.1      7.0\n",
       "0.9    477.0\n",
       "Name: numVotes, dtype: float64"
      ]
     },
     "execution_count": 198,
     "metadata": {},
     "output_type": "execute_result"
    }
   ],
   "source": [
    "# 10% and 90% percentiles\n",
    "dfvotes.quantile([.1,.9]) #looks like percentiles can't provide numbers useful for filtering films becouse of the offset"
   ]
  },
  {
   "cell_type": "code",
   "execution_count": 156,
   "id": "e78467e9",
   "metadata": {},
   "outputs": [],
   "source": [
    "#Lets take a look deeper into the distribution\n",
    "\n",
    "#based on the hist above let's divide series into 2 parts <50K and > 50K num votes\n",
    "\n",
    "dfvotes_under_50 = dfvotes[dfvotes <= 50000]\n",
    "\n",
    "dfvotes_above_50 = dfvotes[dfvotes > 50000]"
   ]
  },
  {
   "cell_type": "code",
   "execution_count": 206,
   "id": "2fc461b2",
   "metadata": {},
   "outputs": [
    {
     "data": {
      "text/plain": [
       "Text(0, 0.5, 'count')"
      ]
     },
     "execution_count": 206,
     "metadata": {},
     "output_type": "execute_result"
    },
    {
     "data": {
      "image/png": "[encoded data removed]",
      "text/plain": [
       "<Figure size 1500x500 with 2 Axes>"
      ]
     },
     "metadata": {},
     "output_type": "display_data"
    }
   ],
   "source": [
    "#Visualition of the divided series\n",
    "fig, axs = plt.subplots(1, 2, figsize=(15, 5))\n",
    "\n",
    "# votes distr under 50K\n",
    "axs[0].hist(dfvotes_under_50,log=True)\n",
    "axs[0].set_title('under 50')\n",
    "axs[0].set_xlabel('values')\n",
    "axs[0].set_ylabel('count')\n",
    "\n",
    "# votes distr above 50K\n",
    "axs[1].hist(dfvotes_above_50,log=True)\n",
    "axs[1].set_title('above 50')\n",
    "axs[1].set_xlabel('values')\n",
    "axs[1].set_ylabel('count')"
   ]
  },
  {
   "cell_type": "code",
   "execution_count": 207,
   "id": "1c1547f0",
   "metadata": {},
   "outputs": [
    {
     "data": {
      "text/plain": [
       "numVotes\n",
       "(-44.993, 5004.3]         1371751\n",
       "(5004.3, 10003.6]            9908\n",
       "(10003.6, 15002.9]           3553\n",
       "(15002.9, 20002.2]           1955\n",
       "(20002.2, 25001.5]           1373\n",
       "(25001.5, 30000.8]            926\n",
       "(30000.8, 35000.1]            695\n",
       "(35000.1, 39999.4]            602\n",
       "(39999.4, 44998.7]            476\n",
       "(44998.7, 49998.0]            381\n",
       "(47212.201, 329991.9]        4105\n",
       "(329991.9, 609971.8]          413\n",
       "(609971.8, 889951.7]          149\n",
       "(889951.7, 1169931.6]          46\n",
       "(1169931.6, 1449911.5]         26\n",
       "(1449911.5, 1729891.4]          7\n",
       "(1729891.4, 2009871.3]          6\n",
       "(2009871.3, 2289851.2]          7\n",
       "(2289851.2, 2569831.1]          1\n",
       "(2569831.1, 2849811.0]          2\n",
       "Name: count, dtype: int64"
      ]
     },
     "execution_count": 207,
     "metadata": {},
     "output_type": "execute_result"
    }
   ],
   "source": [
    "# lets take a look into numbers\n",
    "\n",
    "#dividing series by bins\n",
    "bins = 10 \n",
    "dfvotes_under_50_binned = pd.cut(dfvotes_under_50, bins=bins).value_counts().sort_index()\n",
    "dfvotes_above_50_binned = pd.cut(dfvotes_above_50, bins=bins).value_counts().sort_index()\n",
    "\n",
    "#concat series and show\n",
    "dfvotes_binned_total = pd.concat([dfvotes_under_50_binned,dfvotes_above_50_binned])\n",
    "dfvotes_binned_total"
   ]
  },
  {
   "cell_type": "code",
   "execution_count": 224,
   "id": "8d687ddc",
   "metadata": {},
   "outputs": [
    {
     "name": "stdout",
     "output_type": "stream",
     "text": [
      "Count of films with low num votes: 1371737\n",
      "Count of films with medium num votes: 23988\n",
      "Count of films with high num votes: 657\n"
     ]
    }
   ],
   "source": [
    "#Set up low and high votes limits based on visual analysis\n",
    "\n",
    "#for the high limit lets choose the 9th rounded bin start point\n",
    "high_limit = 330000\n",
    "\n",
    "#for the low limit lets choose the 1st rounded bin end point\n",
    "low_limit = 5000\n",
    "\n",
    "#then let's calculate the final distribution\n",
    "low_limit_films_count = (dfvotes <= low_limit).sum()\n",
    "medium_limit_films_count = ((dfvotes > low_limit) & (dfvotes <= high_limit)).sum()\n",
    "high_limit_films_count = (dfvotes > high_limit).sum()\n",
    "\n",
    "print('Count of films with low num votes: '  + str(low_limit_films_count))\n",
    "print('Count of films with medium num votes: ' + str(medium_limit_films_count))\n",
    "print('Count of films with high num votes: ' + str(high_limit_films_count))"
   ]
  },
  {
   "cell_type": "markdown",
   "id": "c0a59a09",
   "metadata": {},
   "source": [
    "# title_principals.tsv"
   ]
  },
  {
   "cell_type": "code",
   "execution_count": 87,
   "id": "355a979a",
   "metadata": {},
   "outputs": [],
   "source": [
    "dfprincipals = pd.read_csv('imdb_database_202401/title_principals.tsv',delimiter = '\\t')"
   ]
  },
  {
   "cell_type": "code",
   "execution_count": 88,
   "id": "6eda694d",
   "metadata": {},
   "outputs": [
    {
     "data": {
      "text/html": [
       "<div>\n",
       "<style scoped>\n",
       "    .dataframe tbody tr th:only-of-type {\n",
       "        vertical-align: middle;\n",
       "    }\n",
       "\n",
       "    .dataframe tbody tr th {\n",
       "        vertical-align: top;\n",
       "    }\n",
       "\n",
       "    .dataframe thead th {\n",
       "        text-align: right;\n",
       "    }\n",
       "</style>\n",
       "<table border=\"1\" class=\"dataframe\">\n",
       "  <thead>\n",
       "    <tr style=\"text-align: right;\">\n",
       "      <th></th>\n",
       "      <th>tconst</th>\n",
       "      <th>ordering</th>\n",
       "      <th>nconst</th>\n",
       "      <th>category</th>\n",
       "      <th>job</th>\n",
       "      <th>characters</th>\n",
       "    </tr>\n",
       "  </thead>\n",
       "  <tbody>\n",
       "    <tr>\n",
       "      <th>0</th>\n",
       "      <td>tt0000001</td>\n",
       "      <td>1</td>\n",
       "      <td>nm1588970</td>\n",
       "      <td>self</td>\n",
       "      <td>\\N</td>\n",
       "      <td>[\"Self\"]</td>\n",
       "    </tr>\n",
       "    <tr>\n",
       "      <th>1</th>\n",
       "      <td>tt0000001</td>\n",
       "      <td>2</td>\n",
       "      <td>nm0005690</td>\n",
       "      <td>director</td>\n",
       "      <td>\\N</td>\n",
       "      <td>\\N</td>\n",
       "    </tr>\n",
       "    <tr>\n",
       "      <th>2</th>\n",
       "      <td>tt0000001</td>\n",
       "      <td>3</td>\n",
       "      <td>nm0374658</td>\n",
       "      <td>cinematographer</td>\n",
       "      <td>director of photography</td>\n",
       "      <td>\\N</td>\n",
       "    </tr>\n",
       "    <tr>\n",
       "      <th>3</th>\n",
       "      <td>tt0000002</td>\n",
       "      <td>1</td>\n",
       "      <td>nm0721526</td>\n",
       "      <td>director</td>\n",
       "      <td>\\N</td>\n",
       "      <td>\\N</td>\n",
       "    </tr>\n",
       "    <tr>\n",
       "      <th>4</th>\n",
       "      <td>tt0000002</td>\n",
       "      <td>2</td>\n",
       "      <td>nm1335271</td>\n",
       "      <td>composer</td>\n",
       "      <td>\\N</td>\n",
       "      <td>\\N</td>\n",
       "    </tr>\n",
       "  </tbody>\n",
       "</table>\n",
       "</div>"
      ],
      "text/plain": [
       "      tconst  ordering     nconst         category                      job  \\\n",
       "0  tt0000001         1  nm1588970             self                       \\N   \n",
       "1  tt0000001         2  nm0005690         director                       \\N   \n",
       "2  tt0000001         3  nm0374658  cinematographer  director of photography   \n",
       "3  tt0000002         1  nm0721526         director                       \\N   \n",
       "4  tt0000002         2  nm1335271         composer                       \\N   \n",
       "\n",
       "  characters  \n",
       "0   [\"Self\"]  \n",
       "1         \\N  \n",
       "2         \\N  \n",
       "3         \\N  \n",
       "4         \\N  "
      ]
     },
     "execution_count": 88,
     "metadata": {},
     "output_type": "execute_result"
    }
   ],
   "source": [
    "dfprincipals.head()"
   ]
  },
  {
   "cell_type": "code",
   "execution_count": 92,
   "id": "2abab7f1",
   "metadata": {},
   "outputs": [
    {
     "name": "stdout",
     "output_type": "stream",
     "text": [
      "min: 9\n",
      "min: 10\n"
     ]
    }
   ],
   "source": [
    "#calculate min & max length of nconst to check constancy\n",
    "dfprincipals['nconstlen'] = dfprincipals['nconst'].apply(lambda x: len(x))\n",
    "dir_len_min = dfprincipals['nconstlen'].min()\n",
    "dir_len_max = dfprincipals['nconstlen'].max()\n",
    "print('min: ' + str(dir_len_min))\n",
    "print('min: ' + str(dir_len_max))"
   ]
  },
  {
   "cell_type": "code",
   "execution_count": 94,
   "id": "0d10aadb",
   "metadata": {},
   "outputs": [
    {
     "data": {
      "text/plain": [
       "array(['self', 'director', 'cinematographer', 'composer', 'producer',\n",
       "       'editor', 'actor', 'actress', 'writer', 'production_designer',\n",
       "       'archive_footage', 'archive_sound'], dtype=object)"
      ]
     },
     "execution_count": 94,
     "metadata": {},
     "output_type": "execute_result"
    }
   ],
   "source": [
    "#show category values\n",
    "dfprincipals['category'].unique()"
   ]
  },
  {
   "cell_type": "code",
   "execution_count": null,
   "id": "c291753d",
   "metadata": {},
   "outputs": [],
   "source": []
  }
 ],
 "metadata": {
  "kernelspec": {
   "display_name": "Python 3 (ipykernel)",
   "language": "python",
   "name": "python3"
  },
  "language_info": {
   "codemirror_mode": {
    "name": "ipython",
    "version": 3
   },
   "file_extension": ".py",
   "mimetype": "text/x-python",
   "name": "python",
   "nbconvert_exporter": "python",
   "pygments_lexer": "ipython3",
   "version": "3.11.5"
  }
 },
 "nbformat": 4,
 "nbformat_minor": 5
}
